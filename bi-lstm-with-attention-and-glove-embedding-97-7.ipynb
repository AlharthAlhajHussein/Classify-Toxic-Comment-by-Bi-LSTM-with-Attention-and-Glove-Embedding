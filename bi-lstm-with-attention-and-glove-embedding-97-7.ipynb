{
 "cells": [
  {
   "cell_type": "markdown",
   "metadata": {},
   "source": [
    "# Toxic Comment Classification with Bi-LSTM with Attention and GloVe Embeddings\n",
    "---"
   ]
  },
  {
   "cell_type": "markdown",
   "metadata": {},
   "source": [
    "### The Problem This Code Solves\n",
    "- Before diving into the technical details, it's important to understand what problem this code addresses. It solves multi-label text classification (predicting 6 different categories or labels simultaneously) where the dataset likely suffers from class imbalance, as we saw before.\n",
    "\n",
    "---"
   ]
  },
  {
   "cell_type": "markdown",
   "metadata": {},
   "source": [
    "### Import libraries"
   ]
  },
  {
   "cell_type": "code",
   "execution_count": 3,
   "metadata": {
    "execution": {
     "iopub.execute_input": "2025-05-26T16:46:03.917468Z",
     "iopub.status.busy": "2025-05-26T16:46:03.916747Z",
     "iopub.status.idle": "2025-05-26T16:46:29.421864Z",
     "shell.execute_reply": "2025-05-26T16:46:29.421263Z",
     "shell.execute_reply.started": "2025-05-26T16:46:03.917436Z"
    },
    "trusted": true
   },
   "outputs": [
    {
     "name": "stdout",
     "output_type": "stream",
     "text": [
      "Requirement already satisfied: pip in /usr/local/lib/python3.11/dist-packages (24.1.2)\n",
      "Collecting pip\n",
      "  Downloading pip-25.1.1-py3-none-any.whl.metadata (3.6 kB)\n",
      "Downloading pip-25.1.1-py3-none-any.whl (1.8 MB)\n",
      "\u001b[2K   \u001b[90m━━━━━━━━━━━━━━━━━━━━━━━━━━━━━━━━━━━━━━━━\u001b[0m \u001b[32m1.8/1.8 MB\u001b[0m \u001b[31m22.4 MB/s\u001b[0m eta \u001b[36m0:00:00\u001b[0m00:01\u001b[0m0:01\u001b[0m\n",
      "\u001b[?25hInstalling collected packages: pip\n",
      "  Attempting uninstall: pip\n",
      "    Found existing installation: pip 24.1.2\n",
      "    Uninstalling pip-24.1.2:\n",
      "      Successfully uninstalled pip-24.1.2\n",
      "Successfully installed pip-25.1.1\n",
      "Collecting contractions\n",
      "  Downloading contractions-0.1.73-py2.py3-none-any.whl.metadata (1.2 kB)\n",
      "Collecting bs4\n",
      "  Downloading bs4-0.0.2-py2.py3-none-any.whl.metadata (411 bytes)\n",
      "Requirement already satisfied: nltk in /usr/local/lib/python3.11/dist-packages (3.9.1)\n",
      "Requirement already satisfied: beautifulsoup4 in /usr/local/lib/python3.11/dist-packages (4.13.3)\n",
      "Collecting textsearch>=0.0.21 (from contractions)\n",
      "  Downloading textsearch-0.0.24-py2.py3-none-any.whl.metadata (1.2 kB)\n",
      "Requirement already satisfied: click in /usr/local/lib/python3.11/dist-packages (from nltk) (8.1.8)\n",
      "Requirement already satisfied: joblib in /usr/local/lib/python3.11/dist-packages (from nltk) (1.5.0)\n",
      "Requirement already satisfied: regex>=2021.8.3 in /usr/local/lib/python3.11/dist-packages (from nltk) (2024.11.6)\n",
      "Requirement already satisfied: tqdm in /usr/local/lib/python3.11/dist-packages (from nltk) (4.67.1)\n",
      "Requirement already satisfied: soupsieve>1.2 in /usr/local/lib/python3.11/dist-packages (from beautifulsoup4) (2.6)\n",
      "Requirement already satisfied: typing-extensions>=4.0.0 in /usr/local/lib/python3.11/dist-packages (from beautifulsoup4) (4.13.2)\n",
      "Collecting anyascii (from textsearch>=0.0.21->contractions)\n",
      "  Downloading anyascii-0.3.2-py3-none-any.whl.metadata (1.5 kB)\n",
      "Collecting pyahocorasick (from textsearch>=0.0.21->contractions)\n",
      "  Downloading pyahocorasick-2.1.0-cp311-cp311-manylinux_2_17_x86_64.manylinux2014_x86_64.whl.metadata (13 kB)\n",
      "Downloading contractions-0.1.73-py2.py3-none-any.whl (8.7 kB)\n",
      "Downloading bs4-0.0.2-py2.py3-none-any.whl (1.2 kB)\n",
      "Downloading textsearch-0.0.24-py2.py3-none-any.whl (7.6 kB)\n",
      "Downloading anyascii-0.3.2-py3-none-any.whl (289 kB)\n",
      "Downloading pyahocorasick-2.1.0-cp311-cp311-manylinux_2_17_x86_64.manylinux2014_x86_64.whl (118 kB)\n",
      "Installing collected packages: pyahocorasick, anyascii, textsearch, bs4, contractions\n",
      "\u001b[2K   \u001b[90m━━━━━━━━━━━━━━━━━━━━━━━━━━━━━━━━━━━━━━━━\u001b[0m \u001b[32m5/5\u001b[0m [contractions][0m [contractions]\n",
      "\u001b[1A\u001b[2KSuccessfully installed anyascii-0.3.2 bs4-0.0.2 contractions-0.1.73 pyahocorasick-2.1.0 textsearch-0.0.24\n"
     ]
    },
    {
     "name": "stderr",
     "output_type": "stream",
     "text": [
      "[nltk_data] Downloading package punkt_tab to /usr/share/nltk_data...\n",
      "[nltk_data]   Package punkt_tab is already up-to-date!\n",
      "2025-05-26 16:46:17.849377: E external/local_xla/xla/stream_executor/cuda/cuda_fft.cc:477] Unable to register cuFFT factory: Attempting to register factory for plugin cuFFT when one has already been registered\n",
      "WARNING: All log messages before absl::InitializeLog() is called are written to STDERR\n",
      "E0000 00:00:1748277978.037947      35 cuda_dnn.cc:8310] Unable to register cuDNN factory: Attempting to register factory for plugin cuDNN when one has already been registered\n",
      "E0000 00:00:1748277978.097883      35 cuda_blas.cc:1418] Unable to register cuBLAS factory: Attempting to register factory for plugin cuBLAS when one has already been registered\n"
     ]
    }
   ],
   "source": [
    "# !pip install --upgrade pip\n",
    "# !pip install contractions bs4 nltk beautifulsoup4\n",
    "\n",
    "import sys\n",
    "sys.path.append('/kaggle/input/code-utility')\n",
    "from clean_utilities import TextCleaner\n",
    "import model_utilities as mu\n",
    "# Import necessary libraries\n",
    "import pandas as pd\n",
    "import numpy as np\n",
    "\n",
    "import tensorflow as tf\n",
    "\n",
    "import warnings\n",
    "warnings.filterwarnings('ignore')\n",
    "\n",
    "# Set random seeds for reproducibility\n",
    "np.random.seed(42)\n",
    "tf.random.set_seed(42)"
   ]
  },
  {
   "cell_type": "markdown",
   "metadata": {},
   "source": [
    "### 1- Load the Data"
   ]
  },
  {
   "cell_type": "code",
   "execution_count": 4,
   "metadata": {
    "execution": {
     "iopub.execute_input": "2025-05-26T16:46:29.423468Z",
     "iopub.status.busy": "2025-05-26T16:46:29.422918Z",
     "iopub.status.idle": "2025-05-26T16:46:32.958406Z",
     "shell.execute_reply": "2025-05-26T16:46:32.957789Z",
     "shell.execute_reply.started": "2025-05-26T16:46:29.423445Z"
    },
    "trusted": true
   },
   "outputs": [],
   "source": [
    "# Load train data\n",
    "df_train = pd.read_csv('/kaggle/input/jigsaw-toxic-comment-classification-challenge/train.csv.zip')\n",
    "\n",
    "# Load test data without labels\n",
    "df_test = pd.read_csv('/kaggle/input/jigsaw-toxic-comment-classification-challenge/test.csv.zip')\n",
    "\n",
    "# Load the test labels \n",
    "df_test_label = pd.read_csv('/kaggle/input/jigsaw-toxic-comment-classification-challenge/test_labels.csv.zip')\n"
   ]
  },
  {
   "cell_type": "markdown",
   "metadata": {},
   "source": [
    "### 2- Prepare the Validation Data"
   ]
  },
  {
   "cell_type": "code",
   "execution_count": 5,
   "metadata": {
    "execution": {
     "iopub.execute_input": "2025-05-26T16:46:32.959383Z",
     "iopub.status.busy": "2025-05-26T16:46:32.959163Z",
     "iopub.status.idle": "2025-05-26T16:46:33.021259Z",
     "shell.execute_reply": "2025-05-26T16:46:33.020493Z",
     "shell.execute_reply.started": "2025-05-26T16:46:32.959367Z"
    },
    "trusted": true
   },
   "outputs": [
    {
     "data": {
      "text/html": [
       "<div>\n",
       "<style scoped>\n",
       "    .dataframe tbody tr th:only-of-type {\n",
       "        vertical-align: middle;\n",
       "    }\n",
       "\n",
       "    .dataframe tbody tr th {\n",
       "        vertical-align: top;\n",
       "    }\n",
       "\n",
       "    .dataframe thead th {\n",
       "        text-align: right;\n",
       "    }\n",
       "</style>\n",
       "<table border=\"1\" class=\"dataframe\">\n",
       "  <thead>\n",
       "    <tr style=\"text-align: right;\">\n",
       "      <th></th>\n",
       "      <th>id</th>\n",
       "      <th>comment_text</th>\n",
       "      <th>toxic</th>\n",
       "      <th>severe_toxic</th>\n",
       "      <th>obscene</th>\n",
       "      <th>threat</th>\n",
       "      <th>insult</th>\n",
       "      <th>identity_hate</th>\n",
       "    </tr>\n",
       "  </thead>\n",
       "  <tbody>\n",
       "    <tr>\n",
       "      <th>5</th>\n",
       "      <td>0001ea8717f6de06</td>\n",
       "      <td>Thank you for understanding. I think very high...</td>\n",
       "      <td>0</td>\n",
       "      <td>0</td>\n",
       "      <td>0</td>\n",
       "      <td>0</td>\n",
       "      <td>0</td>\n",
       "      <td>0</td>\n",
       "    </tr>\n",
       "    <tr>\n",
       "      <th>7</th>\n",
       "      <td>000247e83dcc1211</td>\n",
       "      <td>:Dear god this site is horrible.</td>\n",
       "      <td>0</td>\n",
       "      <td>0</td>\n",
       "      <td>0</td>\n",
       "      <td>0</td>\n",
       "      <td>0</td>\n",
       "      <td>0</td>\n",
       "    </tr>\n",
       "    <tr>\n",
       "      <th>11</th>\n",
       "      <td>0002f87b16116a7f</td>\n",
       "      <td>\"::: Somebody will invariably try to add Relig...</td>\n",
       "      <td>0</td>\n",
       "      <td>0</td>\n",
       "      <td>0</td>\n",
       "      <td>0</td>\n",
       "      <td>0</td>\n",
       "      <td>0</td>\n",
       "    </tr>\n",
       "    <tr>\n",
       "      <th>13</th>\n",
       "      <td>0003e1cccfd5a40a</td>\n",
       "      <td>\" \\n\\n It says it right there that it IS a typ...</td>\n",
       "      <td>0</td>\n",
       "      <td>0</td>\n",
       "      <td>0</td>\n",
       "      <td>0</td>\n",
       "      <td>0</td>\n",
       "      <td>0</td>\n",
       "    </tr>\n",
       "    <tr>\n",
       "      <th>14</th>\n",
       "      <td>00059ace3e3e9a53</td>\n",
       "      <td>\" \\n\\n == Before adding a new product to the l...</td>\n",
       "      <td>0</td>\n",
       "      <td>0</td>\n",
       "      <td>0</td>\n",
       "      <td>0</td>\n",
       "      <td>0</td>\n",
       "      <td>0</td>\n",
       "    </tr>\n",
       "    <tr>\n",
       "      <th>...</th>\n",
       "      <td>...</td>\n",
       "      <td>...</td>\n",
       "      <td>...</td>\n",
       "      <td>...</td>\n",
       "      <td>...</td>\n",
       "      <td>...</td>\n",
       "      <td>...</td>\n",
       "      <td>...</td>\n",
       "    </tr>\n",
       "    <tr>\n",
       "      <th>153150</th>\n",
       "      <td>fff8f64043129fa2</td>\n",
       "      <td>:Jerome, I see you never got around to this…! ...</td>\n",
       "      <td>0</td>\n",
       "      <td>0</td>\n",
       "      <td>0</td>\n",
       "      <td>0</td>\n",
       "      <td>0</td>\n",
       "      <td>0</td>\n",
       "    </tr>\n",
       "    <tr>\n",
       "      <th>153151</th>\n",
       "      <td>fff9d70fe0722906</td>\n",
       "      <td>==Lucky bastard== \\n http://wikimediafoundatio...</td>\n",
       "      <td>0</td>\n",
       "      <td>0</td>\n",
       "      <td>0</td>\n",
       "      <td>0</td>\n",
       "      <td>0</td>\n",
       "      <td>0</td>\n",
       "    </tr>\n",
       "    <tr>\n",
       "      <th>153154</th>\n",
       "      <td>fffa8a11c4378854</td>\n",
       "      <td>==shame on you all!!!== \\n\\n You want to speak...</td>\n",
       "      <td>0</td>\n",
       "      <td>0</td>\n",
       "      <td>0</td>\n",
       "      <td>0</td>\n",
       "      <td>0</td>\n",
       "      <td>0</td>\n",
       "    </tr>\n",
       "    <tr>\n",
       "      <th>153155</th>\n",
       "      <td>fffac2a094c8e0e2</td>\n",
       "      <td>MEL GIBSON IS A NAZI BITCH WHO MAKES SHITTY MO...</td>\n",
       "      <td>1</td>\n",
       "      <td>0</td>\n",
       "      <td>1</td>\n",
       "      <td>0</td>\n",
       "      <td>1</td>\n",
       "      <td>0</td>\n",
       "    </tr>\n",
       "    <tr>\n",
       "      <th>153156</th>\n",
       "      <td>fffb5451268fb5ba</td>\n",
       "      <td>\" \\n\\n == Unicorn lair discovery == \\n\\n Suppo...</td>\n",
       "      <td>0</td>\n",
       "      <td>0</td>\n",
       "      <td>0</td>\n",
       "      <td>0</td>\n",
       "      <td>0</td>\n",
       "      <td>0</td>\n",
       "    </tr>\n",
       "  </tbody>\n",
       "</table>\n",
       "<p>63978 rows × 8 columns</p>\n",
       "</div>"
      ],
      "text/plain": [
       "                      id                                       comment_text  \\\n",
       "5       0001ea8717f6de06  Thank you for understanding. I think very high...   \n",
       "7       000247e83dcc1211                   :Dear god this site is horrible.   \n",
       "11      0002f87b16116a7f  \"::: Somebody will invariably try to add Relig...   \n",
       "13      0003e1cccfd5a40a  \" \\n\\n It says it right there that it IS a typ...   \n",
       "14      00059ace3e3e9a53  \" \\n\\n == Before adding a new product to the l...   \n",
       "...                  ...                                                ...   \n",
       "153150  fff8f64043129fa2  :Jerome, I see you never got around to this…! ...   \n",
       "153151  fff9d70fe0722906  ==Lucky bastard== \\n http://wikimediafoundatio...   \n",
       "153154  fffa8a11c4378854  ==shame on you all!!!== \\n\\n You want to speak...   \n",
       "153155  fffac2a094c8e0e2  MEL GIBSON IS A NAZI BITCH WHO MAKES SHITTY MO...   \n",
       "153156  fffb5451268fb5ba  \" \\n\\n == Unicorn lair discovery == \\n\\n Suppo...   \n",
       "\n",
       "        toxic  severe_toxic  obscene  threat  insult  identity_hate  \n",
       "5           0             0        0       0       0              0  \n",
       "7           0             0        0       0       0              0  \n",
       "11          0             0        0       0       0              0  \n",
       "13          0             0        0       0       0              0  \n",
       "14          0             0        0       0       0              0  \n",
       "...       ...           ...      ...     ...     ...            ...  \n",
       "153150      0             0        0       0       0              0  \n",
       "153151      0             0        0       0       0              0  \n",
       "153154      0             0        0       0       0              0  \n",
       "153155      1             0        1       0       1              0  \n",
       "153156      0             0        0       0       0              0  \n",
       "\n",
       "[63978 rows x 8 columns]"
      ]
     },
     "execution_count": 5,
     "metadata": {},
     "output_type": "execute_result"
    }
   ],
   "source": [
    "# Remove rows where ANY column (except 'id') has a negative value\n",
    "df_test_label = df_test_label[~(df_test_label.drop(columns='id') < 0).any(axis=1)]\n",
    "\n",
    "# Get the index of kept rows in `y_train`\n",
    "kept_indices = df_test_label.index\n",
    "\n",
    "# Filter `X_train` to keep only matching indices\n",
    "df_test1 = df_test.loc[kept_indices]\n",
    "\n",
    "# concatenation the comment_text and the labels\n",
    "df_val = pd.concat([df_test1['comment_text'], df_test_label], axis=1)\n",
    "\n",
    "# Reorder the columns\n",
    "df_val = df_val[['id', 'comment_text', 'toxic', 'severe_toxic', 'obscene', 'threat', 'insult', 'identity_hate']]\n",
    "df_val"
   ]
  },
  {
   "cell_type": "markdown",
   "metadata": {},
   "source": [
    "### 3- Cleaning Process Includes:\n",
    "- Remove HTML and XML tags\n",
    "- Remove non-ASCII characters\n",
    "- Fix contractions\n",
    "- Replace entities with placeholders\n",
    "- Convert to lowercase\n",
    "- Typos, slang, Acronyms, Some common abbreviations\n",
    "- Remove punctuation\n",
    "- Remove numbers\n",
    "- Remove extra whitespace\n",
    "- Tokenize\n",
    "- Remove stop words\n",
    "\n",
    "---"
   ]
  },
  {
   "cell_type": "markdown",
   "metadata": {},
   "source": [
    "#### 3.1 Create cleaner instance"
   ]
  },
  {
   "cell_type": "code",
   "execution_count": 6,
   "metadata": {
    "execution": {
     "iopub.execute_input": "2025-05-26T16:46:33.023172Z",
     "iopub.status.busy": "2025-05-26T16:46:33.022959Z",
     "iopub.status.idle": "2025-05-26T16:46:33.028628Z",
     "shell.execute_reply": "2025-05-26T16:46:33.028073Z",
     "shell.execute_reply.started": "2025-05-26T16:46:33.023155Z"
    },
    "trusted": true
   },
   "outputs": [],
   "source": [
    "# Create cleaner instance\n",
    "cleaner = TextCleaner()"
   ]
  },
  {
   "cell_type": "markdown",
   "metadata": {},
   "source": [
    "#### 3.2 Display a sample before and after cleaning"
   ]
  },
  {
   "cell_type": "code",
   "execution_count": 7,
   "metadata": {
    "execution": {
     "iopub.execute_input": "2025-05-26T16:46:33.029673Z",
     "iopub.status.busy": "2025-05-26T16:46:33.029431Z",
     "iopub.status.idle": "2025-05-26T16:46:33.066391Z",
     "shell.execute_reply": "2025-05-26T16:46:33.065668Z",
     "shell.execute_reply.started": "2025-05-26T16:46:33.029658Z"
    },
    "trusted": true
   },
   "outputs": [
    {
     "name": "stdout",
     "output_type": "stream",
     "text": [
      "Original toxic comment:\n",
      "Explanation\n",
      "Why the edits made under my username Hardcore Metallica Fan were reverted? They weren't vandalisms, just closure on some GAs after I voted at New York Dolls FAC. And please don't remove the template from the talk page since I'm retired now.89.205.38.27\n",
      "\n",
      "Cleaned toxic comment:\n",
      "explanation edits made username hardcore metallica fan reverted vandalisms closure gas voted new york dolls fac please remove template talk page since retired\n"
     ]
    }
   ],
   "source": [
    "# Example with a single comment\n",
    "sample_comment = df_train['comment_text'].iloc[0]  # Get the 0th comment which contains toxic content\n",
    "print(\"Original toxic comment:\")\n",
    "print(sample_comment)\n",
    "print(\"\\nCleaned toxic comment:\")\n",
    "print(cleaner.clean_text(sample_comment))"
   ]
  },
  {
   "cell_type": "markdown",
   "metadata": {},
   "source": [
    "#### 3.3 Clean Train Data"
   ]
  },
  {
   "cell_type": "code",
   "execution_count": 8,
   "metadata": {
    "execution": {
     "iopub.execute_input": "2025-05-26T16:46:33.067292Z",
     "iopub.status.busy": "2025-05-26T16:46:33.067062Z",
     "iopub.status.idle": "2025-05-26T16:48:15.323705Z",
     "shell.execute_reply": "2025-05-26T16:48:15.323104Z",
     "shell.execute_reply.started": "2025-05-26T16:46:33.067274Z"
    },
    "trusted": true
   },
   "outputs": [
    {
     "name": "stdout",
     "output_type": "stream",
     "text": [
      "Processed 10000/159571 texts (6.3%)\n",
      "Processed 30000/159571 texts (18.8%)\n",
      "Processed 50000/159571 texts (31.3%)\n",
      "Processed 70000/159571 texts (43.9%)\n",
      "Processed 90000/159571 texts (56.4%)\n",
      "Processed 110000/159571 texts (68.9%)\n",
      "Processed 130000/159571 texts (81.5%)\n",
      "Processed 150000/159571 texts (94.0%)\n"
     ]
    }
   ],
   "source": [
    "# Process the train dataset sequentially in batches\n",
    "cleaned_comments = cleaner.process_dataframe(df_train, 'comment_text', batch_size=10000)\n",
    "\n",
    "# Add cleaned comments back to dataframe\n",
    "df_train['cleaned_comment'] = cleaned_comments"
   ]
  },
  {
   "cell_type": "markdown",
   "metadata": {},
   "source": [
    "#### 3.4 Clean Validation Data"
   ]
  },
  {
   "cell_type": "code",
   "execution_count": 9,
   "metadata": {
    "execution": {
     "iopub.execute_input": "2025-05-26T16:48:15.324640Z",
     "iopub.status.busy": "2025-05-26T16:48:15.324424Z",
     "iopub.status.idle": "2025-05-26T16:48:55.143722Z",
     "shell.execute_reply": "2025-05-26T16:48:55.142953Z",
     "shell.execute_reply.started": "2025-05-26T16:48:15.324622Z"
    },
    "trusted": true
   },
   "outputs": [
    {
     "name": "stdout",
     "output_type": "stream",
     "text": [
      "Processed 10000/63978 texts (15.6%)\n",
      "Processed 30000/63978 texts (46.9%)\n",
      "Processed 50000/63978 texts (78.2%)\n",
      "Processed 63978/63978 texts (100.0%)\n"
     ]
    }
   ],
   "source": [
    "# Process the val dataset sequentially in batches\n",
    "cleaned_comments = cleaner.process_dataframe(df_val, 'comment_text', batch_size=10000)\n",
    "\n",
    "# Add cleaned comments back to dataframe\n",
    "df_val['cleaned_comment'] = cleaned_comments"
   ]
  },
  {
   "cell_type": "markdown",
   "metadata": {},
   "source": [
    "#### 3.5 Clean Test Data"
   ]
  },
  {
   "cell_type": "code",
   "execution_count": 10,
   "metadata": {
    "execution": {
     "iopub.execute_input": "2025-05-26T16:48:55.145008Z",
     "iopub.status.busy": "2025-05-26T16:48:55.144536Z",
     "iopub.status.idle": "2025-05-26T16:50:27.133265Z",
     "shell.execute_reply": "2025-05-26T16:50:27.132272Z",
     "shell.execute_reply.started": "2025-05-26T16:48:55.144984Z"
    },
    "trusted": true
   },
   "outputs": [
    {
     "name": "stdout",
     "output_type": "stream",
     "text": [
      "Processed 10000/153164 texts (6.5%)\n",
      "Processed 30000/153164 texts (19.6%)\n",
      "Processed 50000/153164 texts (32.6%)\n",
      "Processed 70000/153164 texts (45.7%)\n",
      "Processed 90000/153164 texts (58.8%)\n",
      "Processed 110000/153164 texts (71.8%)\n",
      "Processed 130000/153164 texts (84.9%)\n",
      "Processed 150000/153164 texts (97.9%)\n"
     ]
    }
   ],
   "source": [
    "# Process the test dataset sequentially in batches\n",
    "cleaned_comments = cleaner.process_dataframe(df_test, 'comment_text', batch_size=10000)\n",
    "\n",
    "# Add cleaned comments back to dataframe\n",
    "df_test['cleaned_comment'] = cleaned_comments"
   ]
  },
  {
   "cell_type": "markdown",
   "metadata": {},
   "source": [
    "#### 3.6 Display a sample before and after cleaning"
   ]
  },
  {
   "cell_type": "code",
   "execution_count": 11,
   "metadata": {
    "execution": {
     "iopub.execute_input": "2025-05-26T16:50:27.134449Z",
     "iopub.status.busy": "2025-05-26T16:50:27.134141Z",
     "iopub.status.idle": "2025-05-26T16:50:27.139088Z",
     "shell.execute_reply": "2025-05-26T16:50:27.138264Z",
     "shell.execute_reply.started": "2025-05-26T16:50:27.134424Z"
    },
    "trusted": true
   },
   "outputs": [
    {
     "name": "stdout",
     "output_type": "stream",
     "text": [
      "\n",
      "Examples of cleaned comments:\n",
      "Original: Explanation\n",
      "Why the edits made under my username Hardcore Metallica Fan were reverted? They weren't vandalisms, just closure on some GAs after I voted at New York Dolls FAC. And please don't remove the template from the talk page since I'm retired now.89.205.38.27...\n",
      "Cleaned: explanation edits made username hardcore metallica fan reverted vandalisms closure gas voted new york dolls fac please remove template talk page since retired...\n"
     ]
    }
   ],
   "source": [
    "# Show examples after cleaning\n",
    "print(\"\\nExamples of cleaned comments:\")\n",
    "print(f\"Original: {df_train['comment_text'].iloc[0]}...\")\n",
    "print(f\"Cleaned: {df_train['cleaned_comment'].iloc[0]}...\")"
   ]
  },
  {
   "cell_type": "markdown",
   "metadata": {},
   "source": [
    "### 4- Load and preprocess data:\n",
    "- Remove comment_text column from train and val data\n",
    "- Split training and validation data into X_train, y_train, X_val, y_val\n",
    "- **Tokenization process:**<small>\n",
    "    - Create Tokenizer object with max features and Unknown token\n",
    "    - Fit Tokenizer on training data, transform text to sequence of tokens\n",
    "    - Transform validation data into sequence of tokens (unique numbers)\n",
    "    - Pad and truncate train, val sequences with max sequence length based on 95th percentile</small>\n",
    "\n",
    "---"
   ]
  },
  {
   "cell_type": "code",
   "execution_count": 12,
   "metadata": {
    "execution": {
     "iopub.execute_input": "2025-05-26T16:50:27.141325Z",
     "iopub.status.busy": "2025-05-26T16:50:27.141105Z",
     "iopub.status.idle": "2025-05-26T16:50:35.722096Z",
     "shell.execute_reply": "2025-05-26T16:50:35.721388Z",
     "shell.execute_reply.started": "2025-05-26T16:50:27.141308Z"
    },
    "trusted": true
   },
   "outputs": [
    {
     "name": "stdout",
     "output_type": "stream",
     "text": [
      "Loading and preprocessing data...\n",
      "Train set shape: (159571, 114)\n",
      "Test set shape: (63978, 114)\n"
     ]
    }
   ],
   "source": [
    "# Load and preprocess the data\n",
    "processed_data = mu.load_and_preprocess_data(df_train, df_val, max_features=50000)"
   ]
  },
  {
   "cell_type": "markdown",
   "metadata": {},
   "source": [
    "### 5- GloVe Embeddings Loader\n",
    "\n",
    "- Purpose: <small>Creates an embedding matrix using **pre-trained GloVe word vectors** (6B parameter) for use in neural networks.</small>\n",
    "\n",
    "##### Parameters<small>\n",
    "- `word_index`: Dictionary mapping words to numerical indices (from tokenizer)\n",
    "- `embedding_dim`: Vector dimension (100, 200, 300) - must match GloVe file\n",
    "- `max_features`: Maximum vocabulary size to keep</small>\n",
    "\n",
    "##### Steps<small>\n",
    "1. **Initializes empty matrix** of shape `(vocab_size, embedding_dim)`\n",
    "2. **Loads GloVe embeddings** from specified text file\n",
    "3. **Matches tokens** from your dataset to GloVe vectors:\n",
    "   - Uses exact word matching\n",
    "   - For unmatched words: initializes **random vectors** (normal distribution)</small>\n",
    "\n",
    "---"
   ]
  },
  {
   "cell_type": "code",
   "execution_count": 13,
   "metadata": {
    "execution": {
     "iopub.execute_input": "2025-05-26T16:50:35.723143Z",
     "iopub.status.busy": "2025-05-26T16:50:35.722932Z",
     "iopub.status.idle": "2025-05-26T16:50:46.570288Z",
     "shell.execute_reply": "2025-05-26T16:50:46.569671Z",
     "shell.execute_reply.started": "2025-05-26T16:50:35.723127Z"
    },
    "trusted": true
   },
   "outputs": [
    {
     "name": "stdout",
     "output_type": "stream",
     "text": [
      "\n",
      "Loading GloVe embeddings (dimension: 100)...\n",
      "Found 400,000 word vectors in GloVe.\n",
      "Found embeddings for 41,172 / 50,000 words.\n"
     ]
    }
   ],
   "source": [
    "# Load GloVe embeddings\n",
    "embedding_matrix = mu.load_glove6B_embeddings(processed_data['word_index'], embedding_dim=100, max_features=processed_data['max_features'])"
   ]
  },
  {
   "cell_type": "markdown",
   "metadata": {},
   "source": [
    "### 6- Neural Network Architecture\n",
    "\n",
    "#### Overview<small>\n",
    "This implementation combines three key components to handle **multi-label text classification** with class imbalance:\n",
    "1. **Focal Loss** - Addresses imbalanced datasets\n",
    "2. **Custom Attention Mechanism**- Focuses on critical words\n",
    "3. **Bidirectional LSTM** - Captures contextual relationships\n",
    "4. **Dense Layers** - map sequence representation to the final predictions</small>\n",
    "---\n",
    "\n",
    "##### 6.1 Focal Loss: Handling Class Imbalance<small>\n",
    "Focal Loss addresses this by implementing a clever weighting scheme that focuses the model's attention on the hard-to-classify examples while reducing the influence of easy examples.</small>\n",
    "\n",
    "How Focal Loss Works: <small>\n",
    "The focal loss formula contains two key parameters\n",
    "- **Alpha (α)**: This controls the balance between positive and negative examples. When set to 0.25, it gives less weight to the majority class and more weight to the minority class.\n",
    "- **Gamma (γ)**: This is the \"focusing parameter\" that determines how much to down-weight easy  examples. A gamma of 2.0 means very confident predictions (easy examples) contribute much less to the loss.</small>\n",
    "\n",
    "---\n",
    "\n",
    "#### 6.2 Self-Attention: Focusing on Important Words\n",
    "The Problem Attention Solves:<small> \n",
    "Traditional LSTM networks process sequences and output a final hidden state that represents the entire sequence. However, this approach has limitations: it may \"forget\" important information from early in the sequence, and it treats all words equally when making the final prediction.</small>\n",
    "\n",
    "- How This Attention Layer Works:<small> \n",
    "The attention mechanism implemented here allows the model to dynamically focus on the most relevant parts of the input sequence when making predictions. Think of it like highlighting the most important sentences when reading a document.</small>\n",
    "\n",
    "- The process works in three steps:<small>\n",
    "    - Score Calculation: For each word in the sequence, calculate an attention score that represents how important that word is for the final prediction.\n",
    "    - Normalization: Convert these scores into a probability distribution using softmax, ensuring they sum to 1.\n",
    "    - Weighted Combination: Multiply each word's representation by its attention weight and sum them up.\n",
    "---\n",
    "\n",
    "#### 6.3 Bidirectional LSTM: Captures contextual relationships\n",
    "Bidirectional LSTM:<small> Processes the sequence in both forward and backward directions. This is crucial because the meaning of a word often depends on both what comes before and after it. The bidirectional approach captures both types of context.</small>\n",
    "\n",
    "---\n",
    "\n",
    "#### 6.4 Dense Layers with Regularization:\n",
    "Multiple fully connected layers with dropout and batch normalization. These layers learn to map the sequence representation to the final predictions.\n",
    "``` python \n",
    "# Dense layers with batch normalization\n",
    "x = Dense(128, activation='relu')(x)\n",
    "x = BatchNormalization()(x)\n",
    "x = Dropout(0.2)(x)\n",
    "\n",
    "# Output layer \n",
    "outputs = Dense(6, activation='sigmoid')(x)\n",
    "```\n",
    "---\n",
    "\n",
    "![Model Structure](images/2.png)\n",
    "\n",
    "---\n",
    "\n",
    "#### Why This Architecture Makes Sense\n",
    "Each component addresses a specific challenge:\n",
    "\n",
    "- **Bidirectional LSTM**: Captures long-range dependencies and contextual relationships in text\n",
    "- **Attention**: Ensures important words aren't lost in long sequences\n",
    "- **Dropout and Batch Normalization**: Prevent overfitting and stabilize training\n",
    "- **Focal Loss**: Handles class imbalance effectively"
   ]
  },
  {
   "cell_type": "code",
   "execution_count": 22,
   "metadata": {
    "execution": {
     "iopub.execute_input": "2025-05-26T16:53:25.852734Z",
     "iopub.status.busy": "2025-05-26T16:53:25.852458Z",
     "iopub.status.idle": "2025-05-26T16:53:26.029640Z",
     "shell.execute_reply": "2025-05-26T16:53:26.028935Z",
     "shell.execute_reply.started": "2025-05-26T16:53:25.852713Z"
    },
    "trusted": true
   },
   "outputs": [
    {
     "name": "stdout",
     "output_type": "stream",
     "text": [
      "\n",
      "Building model for the dataset...\n",
      "Using Focal Loss for class imbalance\n"
     ]
    },
    {
     "data": {
      "text/html": [
       "<pre style=\"white-space:pre;overflow-x:auto;line-height:normal;font-family:Menlo,'DejaVu Sans Mono',consolas,'Courier New',monospace\"><span style=\"font-weight: bold\">Model: \"functional_1\"</span>\n",
       "</pre>\n"
      ],
      "text/plain": [
       "\u001b[1mModel: \"functional_1\"\u001b[0m\n"
      ]
     },
     "metadata": {},
     "output_type": "display_data"
    },
    {
     "data": {
      "text/html": [
       "<pre style=\"white-space:pre;overflow-x:auto;line-height:normal;font-family:Menlo,'DejaVu Sans Mono',consolas,'Courier New',monospace\">┏━━━━━━━━━━━━━━━━━━━━━━━━━━━━━━━━━━━━━━┳━━━━━━━━━━━━━━━━━━━━━━━━━━━━━┳━━━━━━━━━━━━━━━━━┓\n",
       "┃<span style=\"font-weight: bold\"> Layer (type)                         </span>┃<span style=\"font-weight: bold\"> Output Shape                </span>┃<span style=\"font-weight: bold\">         Param # </span>┃\n",
       "┡━━━━━━━━━━━━━━━━━━━━━━━━━━━━━━━━━━━━━━╇━━━━━━━━━━━━━━━━━━━━━━━━━━━━━╇━━━━━━━━━━━━━━━━━┩\n",
       "│ input_layer_1 (<span style=\"color: #0087ff; text-decoration-color: #0087ff\">InputLayer</span>)           │ (<span style=\"color: #00d7ff; text-decoration-color: #00d7ff\">None</span>, <span style=\"color: #00af00; text-decoration-color: #00af00\">114</span>)                 │               <span style=\"color: #00af00; text-decoration-color: #00af00\">0</span> │\n",
       "├──────────────────────────────────────┼─────────────────────────────┼─────────────────┤\n",
       "│ embedding_1 (<span style=\"color: #0087ff; text-decoration-color: #0087ff\">Embedding</span>)              │ (<span style=\"color: #00d7ff; text-decoration-color: #00d7ff\">None</span>, <span style=\"color: #00af00; text-decoration-color: #00af00\">114</span>, <span style=\"color: #00af00; text-decoration-color: #00af00\">100</span>)            │       <span style=\"color: #00af00; text-decoration-color: #00af00\">5,000,000</span> │\n",
       "├──────────────────────────────────────┼─────────────────────────────┼─────────────────┤\n",
       "│ bidirectional_1 (<span style=\"color: #0087ff; text-decoration-color: #0087ff\">Bidirectional</span>)      │ (<span style=\"color: #00d7ff; text-decoration-color: #00d7ff\">None</span>, <span style=\"color: #00af00; text-decoration-color: #00af00\">114</span>, <span style=\"color: #00af00; text-decoration-color: #00af00\">512</span>)            │         <span style=\"color: #00af00; text-decoration-color: #00af00\">731,136</span> │\n",
       "├──────────────────────────────────────┼─────────────────────────────┼─────────────────┤\n",
       "│ attention_layer_1 (<span style=\"color: #0087ff; text-decoration-color: #0087ff\">AttentionLayer</span>)   │ (<span style=\"color: #00d7ff; text-decoration-color: #00d7ff\">None</span>, <span style=\"color: #00af00; text-decoration-color: #00af00\">512</span>)                 │             <span style=\"color: #00af00; text-decoration-color: #00af00\">626</span> │\n",
       "├──────────────────────────────────────┼─────────────────────────────┼─────────────────┤\n",
       "│ dropout_2 (<span style=\"color: #0087ff; text-decoration-color: #0087ff\">Dropout</span>)                  │ (<span style=\"color: #00d7ff; text-decoration-color: #00d7ff\">None</span>, <span style=\"color: #00af00; text-decoration-color: #00af00\">512</span>)                 │               <span style=\"color: #00af00; text-decoration-color: #00af00\">0</span> │\n",
       "├──────────────────────────────────────┼─────────────────────────────┼─────────────────┤\n",
       "│ dense_2 (<span style=\"color: #0087ff; text-decoration-color: #0087ff\">Dense</span>)                      │ (<span style=\"color: #00d7ff; text-decoration-color: #00d7ff\">None</span>, <span style=\"color: #00af00; text-decoration-color: #00af00\">128</span>)                 │          <span style=\"color: #00af00; text-decoration-color: #00af00\">65,664</span> │\n",
       "├──────────────────────────────────────┼─────────────────────────────┼─────────────────┤\n",
       "│ batch_normalization_1                │ (<span style=\"color: #00d7ff; text-decoration-color: #00d7ff\">None</span>, <span style=\"color: #00af00; text-decoration-color: #00af00\">128</span>)                 │             <span style=\"color: #00af00; text-decoration-color: #00af00\">512</span> │\n",
       "│ (<span style=\"color: #0087ff; text-decoration-color: #0087ff\">BatchNormalization</span>)                 │                             │                 │\n",
       "├──────────────────────────────────────┼─────────────────────────────┼─────────────────┤\n",
       "│ dropout_3 (<span style=\"color: #0087ff; text-decoration-color: #0087ff\">Dropout</span>)                  │ (<span style=\"color: #00d7ff; text-decoration-color: #00d7ff\">None</span>, <span style=\"color: #00af00; text-decoration-color: #00af00\">128</span>)                 │               <span style=\"color: #00af00; text-decoration-color: #00af00\">0</span> │\n",
       "├──────────────────────────────────────┼─────────────────────────────┼─────────────────┤\n",
       "│ dense_3 (<span style=\"color: #0087ff; text-decoration-color: #0087ff\">Dense</span>)                      │ (<span style=\"color: #00d7ff; text-decoration-color: #00d7ff\">None</span>, <span style=\"color: #00af00; text-decoration-color: #00af00\">6</span>)                   │             <span style=\"color: #00af00; text-decoration-color: #00af00\">774</span> │\n",
       "└──────────────────────────────────────┴─────────────────────────────┴─────────────────┘\n",
       "</pre>\n"
      ],
      "text/plain": [
       "┏━━━━━━━━━━━━━━━━━━━━━━━━━━━━━━━━━━━━━━┳━━━━━━━━━━━━━━━━━━━━━━━━━━━━━┳━━━━━━━━━━━━━━━━━┓\n",
       "┃\u001b[1m \u001b[0m\u001b[1mLayer (type)                        \u001b[0m\u001b[1m \u001b[0m┃\u001b[1m \u001b[0m\u001b[1mOutput Shape               \u001b[0m\u001b[1m \u001b[0m┃\u001b[1m \u001b[0m\u001b[1m        Param #\u001b[0m\u001b[1m \u001b[0m┃\n",
       "┡━━━━━━━━━━━━━━━━━━━━━━━━━━━━━━━━━━━━━━╇━━━━━━━━━━━━━━━━━━━━━━━━━━━━━╇━━━━━━━━━━━━━━━━━┩\n",
       "│ input_layer_1 (\u001b[38;5;33mInputLayer\u001b[0m)           │ (\u001b[38;5;45mNone\u001b[0m, \u001b[38;5;34m114\u001b[0m)                 │               \u001b[38;5;34m0\u001b[0m │\n",
       "├──────────────────────────────────────┼─────────────────────────────┼─────────────────┤\n",
       "│ embedding_1 (\u001b[38;5;33mEmbedding\u001b[0m)              │ (\u001b[38;5;45mNone\u001b[0m, \u001b[38;5;34m114\u001b[0m, \u001b[38;5;34m100\u001b[0m)            │       \u001b[38;5;34m5,000,000\u001b[0m │\n",
       "├──────────────────────────────────────┼─────────────────────────────┼─────────────────┤\n",
       "│ bidirectional_1 (\u001b[38;5;33mBidirectional\u001b[0m)      │ (\u001b[38;5;45mNone\u001b[0m, \u001b[38;5;34m114\u001b[0m, \u001b[38;5;34m512\u001b[0m)            │         \u001b[38;5;34m731,136\u001b[0m │\n",
       "├──────────────────────────────────────┼─────────────────────────────┼─────────────────┤\n",
       "│ attention_layer_1 (\u001b[38;5;33mAttentionLayer\u001b[0m)   │ (\u001b[38;5;45mNone\u001b[0m, \u001b[38;5;34m512\u001b[0m)                 │             \u001b[38;5;34m626\u001b[0m │\n",
       "├──────────────────────────────────────┼─────────────────────────────┼─────────────────┤\n",
       "│ dropout_2 (\u001b[38;5;33mDropout\u001b[0m)                  │ (\u001b[38;5;45mNone\u001b[0m, \u001b[38;5;34m512\u001b[0m)                 │               \u001b[38;5;34m0\u001b[0m │\n",
       "├──────────────────────────────────────┼─────────────────────────────┼─────────────────┤\n",
       "│ dense_2 (\u001b[38;5;33mDense\u001b[0m)                      │ (\u001b[38;5;45mNone\u001b[0m, \u001b[38;5;34m128\u001b[0m)                 │          \u001b[38;5;34m65,664\u001b[0m │\n",
       "├──────────────────────────────────────┼─────────────────────────────┼─────────────────┤\n",
       "│ batch_normalization_1                │ (\u001b[38;5;45mNone\u001b[0m, \u001b[38;5;34m128\u001b[0m)                 │             \u001b[38;5;34m512\u001b[0m │\n",
       "│ (\u001b[38;5;33mBatchNormalization\u001b[0m)                 │                             │                 │\n",
       "├──────────────────────────────────────┼─────────────────────────────┼─────────────────┤\n",
       "│ dropout_3 (\u001b[38;5;33mDropout\u001b[0m)                  │ (\u001b[38;5;45mNone\u001b[0m, \u001b[38;5;34m128\u001b[0m)                 │               \u001b[38;5;34m0\u001b[0m │\n",
       "├──────────────────────────────────────┼─────────────────────────────┼─────────────────┤\n",
       "│ dense_3 (\u001b[38;5;33mDense\u001b[0m)                      │ (\u001b[38;5;45mNone\u001b[0m, \u001b[38;5;34m6\u001b[0m)                   │             \u001b[38;5;34m774\u001b[0m │\n",
       "└──────────────────────────────────────┴─────────────────────────────┴─────────────────┘\n"
      ]
     },
     "metadata": {},
     "output_type": "display_data"
    },
    {
     "data": {
      "text/html": [
       "<pre style=\"white-space:pre;overflow-x:auto;line-height:normal;font-family:Menlo,'DejaVu Sans Mono',consolas,'Courier New',monospace\"><span style=\"font-weight: bold\"> Total params: </span><span style=\"color: #00af00; text-decoration-color: #00af00\">5,798,712</span> (22.12 MB)\n",
       "</pre>\n"
      ],
      "text/plain": [
       "\u001b[1m Total params: \u001b[0m\u001b[38;5;34m5,798,712\u001b[0m (22.12 MB)\n"
      ]
     },
     "metadata": {},
     "output_type": "display_data"
    },
    {
     "data": {
      "text/html": [
       "<pre style=\"white-space:pre;overflow-x:auto;line-height:normal;font-family:Menlo,'DejaVu Sans Mono',consolas,'Courier New',monospace\"><span style=\"font-weight: bold\"> Trainable params: </span><span style=\"color: #00af00; text-decoration-color: #00af00\">798,456</span> (3.05 MB)\n",
       "</pre>\n"
      ],
      "text/plain": [
       "\u001b[1m Trainable params: \u001b[0m\u001b[38;5;34m798,456\u001b[0m (3.05 MB)\n"
      ]
     },
     "metadata": {},
     "output_type": "display_data"
    },
    {
     "data": {
      "text/html": [
       "<pre style=\"white-space:pre;overflow-x:auto;line-height:normal;font-family:Menlo,'DejaVu Sans Mono',consolas,'Courier New',monospace\"><span style=\"font-weight: bold\"> Non-trainable params: </span><span style=\"color: #00af00; text-decoration-color: #00af00\">5,000,256</span> (19.07 MB)\n",
       "</pre>\n"
      ],
      "text/plain": [
       "\u001b[1m Non-trainable params: \u001b[0m\u001b[38;5;34m5,000,256\u001b[0m (19.07 MB)\n"
      ]
     },
     "metadata": {},
     "output_type": "display_data"
    },
    {
     "name": "stdout",
     "output_type": "stream",
     "text": [
      "None\n"
     ]
    }
   ],
   "source": [
    "# Build model\n",
    "model = mu.build_lstm_model(\n",
    "    embedding_matrix,\n",
    "    processed_data['max_seq_length'],\n",
    "    processed_data['max_features'],\n",
    "    use_focal_loss=True,\n",
    "    alpha=0.9,\n",
    "    learning_rate=0.003,\n",
    "    embedding_dim=100\n",
    ")"
   ]
  },
  {
   "cell_type": "markdown",
   "metadata": {},
   "source": [
    "### -7 Model Training:\n",
    "#### 7.1 Early Stopping:<small>\n",
    "The first callback implements early stopping, which solves one of the most fundamental problems in machine learning called overfitting. The callback monitors the validation AUC score, which measures how well the model performs on data it hasn't seen during training. When this score stops improving for five consecutive epochs, the system makes the intelligent decision to halt training and restore the model to its best performing state. The choice to monitor ROC AUC rather than loss or accuracy because AUC better for imbalanced datasets.</small>\n",
    "\n",
    "---\n",
    "#### 7.2 Learning Rate Reduction:<small>\n",
    "The second callback implements learning rate reduction. Early in training, you want the model to learn quickly and make large adjustments to its parameters. However, as training progresses and the model gets closer to optimal performance, those large adjustments can become counterproductive, causing the model to overshoot the best solution.\n",
    "When the validation AUC plateaus for three epochs, the system reduces the learning rate by 30%, allowing for more precise adjustments. The minimum learning rate threshold of 1e-6 ensures that learning doesn't slow down so much that progress becomes negligible.\n",
    "This adaptive approach is particularly valuable because the optimal learning rate often changes during training. What works well at the beginning may be too aggressive near the end, and this callback handles that transition automatically.</small>\n",
    "\n",
    "---\n",
    "#### 7.3 Model Checkpointing:<small>\n",
    "The third callback implements model checkpointing, The checkpointing system continuously saves the model whenever it achieves a new best validation AUC score. This means that regardless of what happens in later epochs, you'll always have access to the version of the model that performed best on unseen data.</small>"
   ]
  },
  {
   "cell_type": "code",
   "execution_count": 23,
   "metadata": {
    "execution": {
     "iopub.execute_input": "2025-05-26T16:53:33.008930Z",
     "iopub.status.busy": "2025-05-26T16:53:33.008281Z",
     "iopub.status.idle": "2025-05-26T17:12:00.373472Z",
     "shell.execute_reply": "2025-05-26T17:12:00.372924Z",
     "shell.execute_reply.started": "2025-05-26T16:53:33.008907Z"
    },
    "trusted": true
   },
   "outputs": [
    {
     "name": "stdout",
     "output_type": "stream",
     "text": [
      "\n",
      "Training model with class imbalance handling...\n",
      "Epoch 1/20\n",
      "\u001b[1m156/156\u001b[0m \u001b[32m━━━━━━━━━━━━━━━━━━━━\u001b[0m\u001b[37m\u001b[0m \u001b[1m0s\u001b[0m 468ms/step - accuracy: 0.5827 - loss: 0.0165 - roc_auc: 0.8541\n",
      "Epoch 1: val_roc_auc improved from -inf to 0.95810, saving model to best_model.keras\n",
      "\u001b[1m156/156\u001b[0m \u001b[32m━━━━━━━━━━━━━━━━━━━━\u001b[0m\u001b[37m\u001b[0m \u001b[1m99s\u001b[0m 542ms/step - accuracy: 0.5838 - loss: 0.0165 - roc_auc: 0.8546 - val_accuracy: 0.9976 - val_loss: 0.0100 - val_roc_auc: 0.9581 - learning_rate: 0.0030\n",
      "Epoch 2/20\n",
      "\u001b[1m156/156\u001b[0m \u001b[32m━━━━━━━━━━━━━━━━━━━━\u001b[0m\u001b[37m\u001b[0m \u001b[1m0s\u001b[0m 472ms/step - accuracy: 0.9426 - loss: 0.0070 - roc_auc: 0.9667\n",
      "Epoch 2: val_roc_auc improved from 0.95810 to 0.96872, saving model to best_model.keras\n",
      "\u001b[1m156/156\u001b[0m \u001b[32m━━━━━━━━━━━━━━━━━━━━\u001b[0m\u001b[37m\u001b[0m \u001b[1m84s\u001b[0m 537ms/step - accuracy: 0.9426 - loss: 0.0070 - roc_auc: 0.9667 - val_accuracy: 0.9974 - val_loss: 0.0069 - val_roc_auc: 0.9687 - learning_rate: 0.0030\n",
      "Epoch 3/20\n",
      "\u001b[1m156/156\u001b[0m \u001b[32m━━━━━━━━━━━━━━━━━━━━\u001b[0m\u001b[37m\u001b[0m \u001b[1m0s\u001b[0m 475ms/step - accuracy: 0.9687 - loss: 0.0063 - roc_auc: 0.9734\n",
      "Epoch 3: val_roc_auc improved from 0.96872 to 0.97243, saving model to best_model.keras\n",
      "\u001b[1m156/156\u001b[0m \u001b[32m━━━━━━━━━━━━━━━━━━━━\u001b[0m\u001b[37m\u001b[0m \u001b[1m84s\u001b[0m 540ms/step - accuracy: 0.9687 - loss: 0.0063 - roc_auc: 0.9735 - val_accuracy: 0.9958 - val_loss: 0.0067 - val_roc_auc: 0.9724 - learning_rate: 0.0030\n",
      "Epoch 4/20\n",
      "\u001b[1m156/156\u001b[0m \u001b[32m━━━━━━━━━━━━━━━━━━━━\u001b[0m\u001b[37m\u001b[0m \u001b[1m0s\u001b[0m 477ms/step - accuracy: 0.9820 - loss: 0.0058 - roc_auc: 0.9773\n",
      "Epoch 4: val_roc_auc improved from 0.97243 to 0.97382, saving model to best_model.keras\n",
      "\u001b[1m156/156\u001b[0m \u001b[32m━━━━━━━━━━━━━━━━━━━━\u001b[0m\u001b[37m\u001b[0m \u001b[1m85s\u001b[0m 542ms/step - accuracy: 0.9820 - loss: 0.0058 - roc_auc: 0.9773 - val_accuracy: 0.9953 - val_loss: 0.0064 - val_roc_auc: 0.9738 - learning_rate: 0.0030\n",
      "Epoch 5/20\n",
      "\u001b[1m156/156\u001b[0m \u001b[32m━━━━━━━━━━━━━━━━━━━━\u001b[0m\u001b[37m\u001b[0m \u001b[1m0s\u001b[0m 479ms/step - accuracy: 0.9803 - loss: 0.0055 - roc_auc: 0.9796\n",
      "Epoch 5: val_roc_auc improved from 0.97382 to 0.97603, saving model to best_model.keras\n",
      "\u001b[1m156/156\u001b[0m \u001b[32m━━━━━━━━━━━━━━━━━━━━\u001b[0m\u001b[37m\u001b[0m \u001b[1m85s\u001b[0m 544ms/step - accuracy: 0.9803 - loss: 0.0055 - roc_auc: 0.9796 - val_accuracy: 0.9970 - val_loss: 0.0063 - val_roc_auc: 0.9760 - learning_rate: 0.0030\n",
      "Epoch 6/20\n",
      "\u001b[1m156/156\u001b[0m \u001b[32m━━━━━━━━━━━━━━━━━━━━\u001b[0m\u001b[37m\u001b[0m \u001b[1m0s\u001b[0m 477ms/step - accuracy: 0.9847 - loss: 0.0053 - roc_auc: 0.9815\n",
      "Epoch 6: val_roc_auc improved from 0.97603 to 0.97663, saving model to best_model.keras\n",
      "\u001b[1m156/156\u001b[0m \u001b[32m━━━━━━━━━━━━━━━━━━━━\u001b[0m\u001b[37m\u001b[0m \u001b[1m85s\u001b[0m 542ms/step - accuracy: 0.9847 - loss: 0.0053 - roc_auc: 0.9815 - val_accuracy: 0.9955 - val_loss: 0.0064 - val_roc_auc: 0.9766 - learning_rate: 0.0030\n",
      "Epoch 7/20\n",
      "\u001b[1m156/156\u001b[0m \u001b[32m━━━━━━━━━━━━━━━━━━━━\u001b[0m\u001b[37m\u001b[0m \u001b[1m0s\u001b[0m 478ms/step - accuracy: 0.9844 - loss: 0.0051 - roc_auc: 0.9828\n",
      "Epoch 7: val_roc_auc improved from 0.97663 to 0.97736, saving model to best_model.keras\n",
      "\u001b[1m156/156\u001b[0m \u001b[32m━━━━━━━━━━━━━━━━━━━━\u001b[0m\u001b[37m\u001b[0m \u001b[1m85s\u001b[0m 543ms/step - accuracy: 0.9843 - loss: 0.0051 - roc_auc: 0.9828 - val_accuracy: 0.9933 - val_loss: 0.0065 - val_roc_auc: 0.9774 - learning_rate: 0.0030\n",
      "Epoch 8/20\n",
      "\u001b[1m156/156\u001b[0m \u001b[32m━━━━━━━━━━━━━━━━━━━━\u001b[0m\u001b[37m\u001b[0m \u001b[1m0s\u001b[0m 476ms/step - accuracy: 0.9821 - loss: 0.0049 - roc_auc: 0.9837\n",
      "Epoch 8: val_roc_auc improved from 0.97736 to 0.97820, saving model to best_model.keras\n",
      "\u001b[1m156/156\u001b[0m \u001b[32m━━━━━━━━━━━━━━━━━━━━\u001b[0m\u001b[37m\u001b[0m \u001b[1m84s\u001b[0m 541ms/step - accuracy: 0.9821 - loss: 0.0049 - roc_auc: 0.9837 - val_accuracy: 0.9728 - val_loss: 0.0068 - val_roc_auc: 0.9782 - learning_rate: 0.0030\n",
      "Epoch 9/20\n",
      "\u001b[1m156/156\u001b[0m \u001b[32m━━━━━━━━━━━━━━━━━━━━\u001b[0m\u001b[37m\u001b[0m \u001b[1m0s\u001b[0m 474ms/step - accuracy: 0.9802 - loss: 0.0048 - roc_auc: 0.9848\n",
      "Epoch 9: val_roc_auc did not improve from 0.97820\n",
      "\u001b[1m156/156\u001b[0m \u001b[32m━━━━━━━━━━━━━━━━━━━━\u001b[0m\u001b[37m\u001b[0m \u001b[1m84s\u001b[0m 538ms/step - accuracy: 0.9802 - loss: 0.0048 - roc_auc: 0.9848 - val_accuracy: 0.9960 - val_loss: 0.0063 - val_roc_auc: 0.9773 - learning_rate: 0.0030\n",
      "Epoch 10/20\n",
      "\u001b[1m156/156\u001b[0m \u001b[32m━━━━━━━━━━━━━━━━━━━━\u001b[0m\u001b[37m\u001b[0m \u001b[1m0s\u001b[0m 474ms/step - accuracy: 0.9797 - loss: 0.0046 - roc_auc: 0.9859\n",
      "Epoch 10: val_roc_auc did not improve from 0.97820\n",
      "\u001b[1m156/156\u001b[0m \u001b[32m━━━━━━━━━━━━━━━━━━━━\u001b[0m\u001b[37m\u001b[0m \u001b[1m84s\u001b[0m 537ms/step - accuracy: 0.9797 - loss: 0.0046 - roc_auc: 0.9859 - val_accuracy: 0.9947 - val_loss: 0.0066 - val_roc_auc: 0.9775 - learning_rate: 0.0030\n",
      "Epoch 11/20\n",
      "\u001b[1m156/156\u001b[0m \u001b[32m━━━━━━━━━━━━━━━━━━━━\u001b[0m\u001b[37m\u001b[0m \u001b[1m0s\u001b[0m 471ms/step - accuracy: 0.9784 - loss: 0.0045 - roc_auc: 0.9865\n",
      "Epoch 11: ReduceLROnPlateau reducing learning rate to 0.0009000000078231095.\n",
      "\n",
      "Epoch 11: val_roc_auc did not improve from 0.97820\n",
      "\u001b[1m156/156\u001b[0m \u001b[32m━━━━━━━━━━━━━━━━━━━━\u001b[0m\u001b[37m\u001b[0m \u001b[1m83s\u001b[0m 534ms/step - accuracy: 0.9784 - loss: 0.0045 - roc_auc: 0.9865 - val_accuracy: 0.9967 - val_loss: 0.0065 - val_roc_auc: 0.9771 - learning_rate: 0.0030\n",
      "Epoch 12/20\n",
      "\u001b[1m156/156\u001b[0m \u001b[32m━━━━━━━━━━━━━━━━━━━━\u001b[0m\u001b[37m\u001b[0m \u001b[1m0s\u001b[0m 470ms/step - accuracy: 0.9836 - loss: 0.0044 - roc_auc: 0.9873\n",
      "Epoch 12: val_roc_auc did not improve from 0.97820\n",
      "\u001b[1m156/156\u001b[0m \u001b[32m━━━━━━━━━━━━━━━━━━━━\u001b[0m\u001b[37m\u001b[0m \u001b[1m83s\u001b[0m 533ms/step - accuracy: 0.9836 - loss: 0.0044 - roc_auc: 0.9873 - val_accuracy: 0.9936 - val_loss: 0.0066 - val_roc_auc: 0.9782 - learning_rate: 9.0000e-04\n",
      "Epoch 13/20\n",
      "\u001b[1m156/156\u001b[0m \u001b[32m━━━━━━━━━━━━━━━━━━━━\u001b[0m\u001b[37m\u001b[0m \u001b[1m0s\u001b[0m 472ms/step - accuracy: 0.9833 - loss: 0.0043 - roc_auc: 0.9878\n",
      "Epoch 13: val_roc_auc did not improve from 0.97820\n",
      "\u001b[1m156/156\u001b[0m \u001b[32m━━━━━━━━━━━━━━━━━━━━\u001b[0m\u001b[37m\u001b[0m \u001b[1m84s\u001b[0m 536ms/step - accuracy: 0.9832 - loss: 0.0043 - roc_auc: 0.9878 - val_accuracy: 0.9893 - val_loss: 0.0068 - val_roc_auc: 0.9781 - learning_rate: 9.0000e-04\n",
      "Epoch 13: early stopping\n",
      "Restoring model weights from the end of the best epoch: 8.\n"
     ]
    }
   ],
   "source": [
    "#Train model\n",
    "model, history = mu.train_model(\n",
    "    model,\n",
    "    processed_data,\n",
    "    batch_size=1024,\n",
    "    epochs=20\n",
    ")"
   ]
  },
  {
   "cell_type": "markdown",
   "metadata": {},
   "source": [
    "### -8 Evaluate Model:\n",
    "Evaluate model on the validation data using ROC AUC score and classification report with ROC curve for each lable."
   ]
  },
  {
   "cell_type": "code",
   "execution_count": 24,
   "metadata": {
    "execution": {
     "iopub.execute_input": "2025-05-26T17:16:17.737499Z",
     "iopub.status.busy": "2025-05-26T17:16:17.737184Z",
     "iopub.status.idle": "2025-05-26T17:19:13.803746Z",
     "shell.execute_reply": "2025-05-26T17:19:13.803097Z",
     "shell.execute_reply.started": "2025-05-26T17:16:17.737477Z"
    },
    "trusted": true
   },
   "outputs": [
    {
     "name": "stdout",
     "output_type": "stream",
     "text": [
      "\n",
      "Evaluating the model...\n",
      "\u001b[1m2000/2000\u001b[0m \u001b[32m━━━━━━━━━━━━━━━━━━━━\u001b[0m\u001b[37m\u001b[0m \u001b[1m173s\u001b[0m 86ms/step\n",
      "\n",
      "=== TOXIC ===\n",
      "Optimal Threshold: 0.7638\n",
      "ROC AUC: 0.9617\n",
      "              precision    recall  f1-score   support\n",
      "\n",
      "   Non-toxic       0.97      0.95      0.96     57888\n",
      "       toxic       0.63      0.75      0.69      6090\n",
      "\n",
      "    accuracy                           0.93     63978\n",
      "   macro avg       0.80      0.85      0.82     63978\n",
      "weighted avg       0.94      0.93      0.94     63978\n",
      "\n",
      "\n",
      "=== SEVERE_TOXIC ===\n",
      "Optimal Threshold: 0.6654\n",
      "ROC AUC: 0.9850\n",
      "                  precision    recall  f1-score   support\n",
      "\n",
      "Non-severe_toxic       1.00      0.99      1.00     63611\n",
      "    severe_toxic       0.33      0.64      0.43       367\n",
      "\n",
      "        accuracy                           0.99     63978\n",
      "       macro avg       0.66      0.82      0.71     63978\n",
      "    weighted avg       0.99      0.99      0.99     63978\n",
      "\n",
      "\n",
      "=== OBSCENE ===\n",
      "Optimal Threshold: 0.7497\n",
      "ROC AUC: 0.9731\n",
      "              precision    recall  f1-score   support\n",
      "\n",
      " Non-obscene       0.98      0.98      0.98     60287\n",
      "     obscene       0.68      0.69      0.69      3691\n",
      "\n",
      "    accuracy                           0.96     63978\n",
      "   macro avg       0.83      0.84      0.83     63978\n",
      "weighted avg       0.96      0.96      0.96     63978\n",
      "\n",
      "\n",
      "=== THREAT ===\n",
      "Optimal Threshold: 0.5897\n",
      "ROC AUC: 0.9885\n",
      "              precision    recall  f1-score   support\n",
      "\n",
      "  Non-threat       1.00      1.00      1.00     63767\n",
      "      threat       0.33      0.53      0.41       211\n",
      "\n",
      "    accuracy                           0.99     63978\n",
      "   macro avg       0.66      0.76      0.70     63978\n",
      "weighted avg       1.00      0.99      1.00     63978\n",
      "\n",
      "\n",
      "=== INSULT ===\n",
      "Optimal Threshold: 0.7216\n",
      "ROC AUC: 0.9653\n",
      "              precision    recall  f1-score   support\n",
      "\n",
      "  Non-insult       0.98      0.98      0.98     60551\n",
      "      insult       0.61      0.63      0.62      3427\n",
      "\n",
      "    accuracy                           0.96     63978\n",
      "   macro avg       0.79      0.80      0.80     63978\n",
      "weighted avg       0.96      0.96      0.96     63978\n",
      "\n",
      "\n",
      "=== IDENTITY_HATE ===\n",
      "Optimal Threshold: 0.6606\n",
      "ROC AUC: 0.9735\n",
      "                   precision    recall  f1-score   support\n",
      "\n",
      "Non-identity_hate       0.99      0.99      0.99     63266\n",
      "    identity_hate       0.48      0.52      0.50       712\n",
      "\n",
      "         accuracy                           0.99     63978\n",
      "        macro avg       0.74      0.76      0.75     63978\n",
      "     weighted avg       0.99      0.99      0.99     63978\n",
      "\n"
     ]
    },
    {
     "data": {
      "image/png": "[encoded data removed]",
      "text/plain": [
       "<Figure size 1200x800 with 1 Axes>"
      ]
     },
     "metadata": {},
     "output_type": "display_data"
    },
    {
     "name": "stdout",
     "output_type": "stream",
     "text": [
      "\n",
      "Overall ROC AUC: 0.9745\n"
     ]
    }
   ],
   "source": [
    "# evaluate model\n",
    "metrics = mu.evaluate_model(model, processed_data)"
   ]
  },
  {
   "cell_type": "markdown",
   "metadata": {},
   "source": [
    "#### -9 Visualize the ROC AUC and loss durning training."
   ]
  },
  {
   "cell_type": "code",
   "execution_count": 25,
   "metadata": {
    "execution": {
     "iopub.execute_input": "2025-05-26T17:20:50.036964Z",
     "iopub.status.busy": "2025-05-26T17:20:50.036671Z",
     "iopub.status.idle": "2025-05-26T17:20:51.021905Z",
     "shell.execute_reply": "2025-05-26T17:20:51.021137Z",
     "shell.execute_reply.started": "2025-05-26T17:20:50.036942Z"
    },
    "trusted": true
   },
   "outputs": [
    {
     "data": {
      "image/png": "[encoded data removed]",
      "text/plain": [
       "<Figure size 1200x500 with 2 Axes>"
      ]
     },
     "metadata": {},
     "output_type": "display_data"
    }
   ],
   "source": [
    "# Visualize results\n",
    "mu.plot_training_history(history)"
   ]
  },
  {
   "cell_type": "markdown",
   "metadata": {},
   "source": [
    "### 10- Save the model with tokenizer"
   ]
  },
  {
   "cell_type": "code",
   "execution_count": 26,
   "metadata": {
    "execution": {
     "iopub.execute_input": "2025-05-26T17:21:15.406692Z",
     "iopub.status.busy": "2025-05-26T17:21:15.406141Z",
     "iopub.status.idle": "2025-05-26T17:21:15.728343Z",
     "shell.execute_reply": "2025-05-26T17:21:15.727652Z",
     "shell.execute_reply.started": "2025-05-26T17:21:15.406667Z"
    },
    "trusted": true
   },
   "outputs": [
    {
     "name": "stdout",
     "output_type": "stream",
     "text": [
      "\n",
      "Saving model to toxic_model.keras\n",
      "Saving preprocessing data to preprocessing_data.pkl\n"
     ]
    }
   ],
   "source": [
    "# Save model and tokenizer\n",
    "mu.save_model_and_data(model, processed_data)"
   ]
  },
  {
   "cell_type": "markdown",
   "metadata": {},
   "source": [
    "### 11- Show Example prediction"
   ]
  },
  {
   "cell_type": "code",
   "execution_count": 27,
   "metadata": {
    "execution": {
     "iopub.execute_input": "2025-05-26T17:21:19.864577Z",
     "iopub.status.busy": "2025-05-26T17:21:19.864308Z",
     "iopub.status.idle": "2025-05-26T17:21:20.031190Z",
     "shell.execute_reply": "2025-05-26T17:21:20.030658Z",
     "shell.execute_reply.started": "2025-05-26T17:21:19.864556Z"
    },
    "trusted": true
   },
   "outputs": [
    {
     "name": "stdout",
     "output_type": "stream",
     "text": [
      "\u001b[1m1/1\u001b[0m \u001b[32m━━━━━━━━━━━━━━━━━━━━\u001b[0m\u001b[37m\u001b[0m \u001b[1m0s\u001b[0m 115ms/step\n",
      "\n",
      "Example prediction:\n",
      "toxic: 0.7700\n",
      "severe_toxic: 0.2646\n",
      "obscene: 0.5962\n",
      "threat: 0.1626\n",
      "insult: 0.6370\n",
      "identity_hate: 0.3215\n"
     ]
    }
   ],
   "source": [
    "# Example prediction\n",
    "example_comment = \"This is a normal comment without any toxic content stupid.\"\n",
    "\n",
    "# Clean Text \n",
    "cleaned_comment = cleaner.clean_text(example_comment)\n",
    "\n",
    "# Predict the labels\n",
    "prediction = mu.predict_toxicity(cleaned_comment, model, processed_data)\n",
    "\n",
    "print(f\"\\nExample prediction:\")\n",
    "for category, score in prediction.items():\n",
    "    print(f\"{category}: {score:.4f}\")"
   ]
  },
  {
   "cell_type": "markdown",
   "metadata": {},
   "source": [
    "### 12- load and preprocess the test data\n"
   ]
  },
  {
   "cell_type": "code",
   "execution_count": 28,
   "metadata": {
    "execution": {
     "iopub.execute_input": "2025-05-26T17:21:31.717715Z",
     "iopub.status.busy": "2025-05-26T17:21:31.717443Z",
     "iopub.status.idle": "2025-05-26T17:21:34.541498Z",
     "shell.execute_reply": "2025-05-26T17:21:34.540709Z",
     "shell.execute_reply.started": "2025-05-26T17:21:31.717696Z"
    },
    "trusted": true
   },
   "outputs": [
    {
     "name": "stdout",
     "output_type": "stream",
     "text": [
      "Loading and preprocessing test data...\n"
     ]
    }
   ],
   "source": [
    "# load and preprocess the test data\n",
    "X_padded, df = mu.load_and_preprocess_test_data(df_test, processed_data['tokenizer'], processed_data['max_seq_length'])"
   ]
  },
  {
   "cell_type": "markdown",
   "metadata": {},
   "source": [
    "### 13- Make predictions and submission DF"
   ]
  },
  {
   "cell_type": "code",
   "execution_count": 29,
   "metadata": {
    "execution": {
     "iopub.execute_input": "2025-05-26T17:21:53.209833Z",
     "iopub.status.busy": "2025-05-26T17:21:53.209558Z",
     "iopub.status.idle": "2025-05-26T17:28:42.529013Z",
     "shell.execute_reply": "2025-05-26T17:28:42.528408Z",
     "shell.execute_reply.started": "2025-05-26T17:21:53.209812Z"
    },
    "trusted": true
   },
   "outputs": [
    {
     "name": "stdout",
     "output_type": "stream",
     "text": [
      "\u001b[1m4787/4787\u001b[0m \u001b[32m━━━━━━━━━━━━━━━━━━━━\u001b[0m\u001b[37m\u001b[0m \u001b[1m407s\u001b[0m 85ms/step\n"
     ]
    }
   ],
   "source": [
    "# Make predictions\n",
    "y_pred = model.predict(X_padded)\n",
    "\n",
    "# Create result dictionary\n",
    "categories = ['toxic', 'severe_toxic', 'obscene', 'threat', 'insult', 'identity_hate']\n",
    "for i, cat in enumerate(categories):\n",
    "    df[cat] = y_pred[:, i]\n",
    "\n",
    "sub_df = df[['id', 'toxic', 'severe_toxic', 'obscene', 'threat', 'insult', 'identity_hate']]"
   ]
  },
  {
   "cell_type": "markdown",
   "metadata": {},
   "source": [
    "### 14- Save DF to submission.csv file"
   ]
  },
  {
   "cell_type": "code",
   "execution_count": 31,
   "metadata": {
    "execution": {
     "iopub.execute_input": "2025-05-26T17:32:44.353182Z",
     "iopub.status.busy": "2025-05-26T17:32:44.352906Z",
     "iopub.status.idle": "2025-05-26T17:32:45.286444Z",
     "shell.execute_reply": "2025-05-26T17:32:45.285631Z",
     "shell.execute_reply.started": "2025-05-26T17:32:44.353160Z"
    },
    "trusted": true
   },
   "outputs": [],
   "source": [
    "# Save the submission file\n",
    "sub_df.to_csv('submission.csv', index=False)"
   ]
  },
  {
   "cell_type": "markdown",
   "metadata": {},
   "source": [
    "# Wish you all the best \n",
    "# Thank You 😊"
   ]
  }
 ],
 "metadata": {
  "kaggle": {
   "accelerator": "nvidiaTeslaT4",
   "dataSources": [
    {
     "databundleVersionId": 44219,
     "sourceId": 8076,
     "sourceType": "competition"
    },
    {
     "databundleVersionId": 12473109,
     "datasetId": 7517536,
     "sourceId": 11960792,
     "sourceType": "datasetVersion"
    },
    {
     "databundleVersionId": 1517518,
     "datasetId": 870709,
     "sourceId": 1483651,
     "sourceType": "datasetVersion"
    }
   ],
   "dockerImageVersionId": 31040,
   "isGpuEnabled": true,
   "isInternetEnabled": true,
   "language": "python",
   "sourceType": "notebook"
  },
  "kernelspec": {
   "display_name": "Python 3",
   "language": "python",
   "name": "python3"
  },
  "language_info": {
   "codemirror_mode": {
    "name": "ipython",
    "version": 3
   },
   "file_extension": ".py",
   "mimetype": "text/x-python",
   "name": "python",
   "nbconvert_exporter": "python",
   "pygments_lexer": "ipython3",
   "version": "3.11.11"
  }
 },
 "nbformat": 4,
 "nbformat_minor": 4
}
